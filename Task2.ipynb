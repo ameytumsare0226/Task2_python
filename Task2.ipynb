{
 "cells": [
  {
   "cell_type": "markdown",
   "id": "b40195ef-11fe-4a10-8b01-80d9a247dfb3",
   "metadata": {},
   "source": [
    "# String Methods"
   ]
  },
  {
   "cell_type": "markdown",
   "id": "d4e551dc-3021-473f-879c-b2b991460c46",
   "metadata": {},
   "source": [
    "#### 1. Upper()"
   ]
  },
  {
   "cell_type": "code",
   "execution_count": 153,
   "id": "96926c32-acd2-47a2-b5eb-7ee46eca6217",
   "metadata": {},
   "outputs": [
    {
     "name": "stdout",
     "output_type": "stream",
     "text": [
      "AMEY TUMSARE\n"
     ]
    }
   ],
   "source": [
    "str1 = 'amey tumsare'\n",
    "Name = str1.upper()\n",
    "print(Name)"
   ]
  },
  {
   "cell_type": "markdown",
   "id": "f5532e7b-f1d4-40fe-9a1a-d8105cb7cd50",
   "metadata": {},
   "source": [
    "#### 2. Lower()"
   ]
  },
  {
   "cell_type": "code",
   "execution_count": 25,
   "id": "9bfdaced-66f6-4916-85a9-4fed7e44ff53",
   "metadata": {},
   "outputs": [
    {
     "name": "stdout",
     "output_type": "stream",
     "text": [
      "amey tumsare\n"
     ]
    }
   ],
   "source": [
    "str1 = 'amey tumsare'\n",
    "Name = str1.lower()\n",
    "print(Name)"
   ]
  },
  {
   "cell_type": "markdown",
   "id": "9cf4ae52-4b8a-4323-801b-02be7e0fb05d",
   "metadata": {},
   "source": [
    "#### 3. Title()"
   ]
  },
  {
   "cell_type": "code",
   "execution_count": 49,
   "id": "88e6e23c-b535-4aef-8d93-1498c31d117b",
   "metadata": {},
   "outputs": [
    {
     "name": "stdout",
     "output_type": "stream",
     "text": [
      "Hello, World!\n"
     ]
    }
   ],
   "source": [
    "text = \"hello, world!\"\n",
    "result = text.title()\n",
    "print(result) \n"
   ]
  },
  {
   "cell_type": "markdown",
   "id": "5f6ad9ef-b35d-4d43-ab56-591081d66041",
   "metadata": {},
   "source": [
    "#### 4. strip()"
   ]
  },
  {
   "cell_type": "code",
   "execution_count": 55,
   "id": "dc57f0c7-a473-4d57-9742-37b3f47debde",
   "metadata": {},
   "outputs": [
    {
     "name": "stdout",
     "output_type": "stream",
     "text": [
      "Hello, World!\n"
     ]
    }
   ],
   "source": [
    "text = \"   Hello, World!   \"\n",
    "result = text.strip()\n",
    "print(result)  \n"
   ]
  },
  {
   "cell_type": "markdown",
   "id": "2de28293-4164-4a35-ade9-366d6ac6b112",
   "metadata": {},
   "source": [
    "#### 5. replace()"
   ]
  },
  {
   "cell_type": "code",
   "execution_count": 120,
   "id": "a3379dd1-c45f-4b49-81cb-abb7900770a9",
   "metadata": {},
   "outputs": [
    {
     "name": "stdout",
     "output_type": "stream",
     "text": [
      "Hello, Python!\n"
     ]
    }
   ],
   "source": [
    "text = \"Hello, World!\"\n",
    "result = text.replace(\"World\", \"Python\")\n",
    "print(result) \n"
   ]
  },
  {
   "cell_type": "markdown",
   "id": "37037471-5aef-4339-906a-ba613dc88606",
   "metadata": {},
   "source": [
    "#### 6. split()"
   ]
  },
  {
   "cell_type": "code",
   "execution_count": 123,
   "id": "0853015c-3e56-43b1-8867-957f0ff36979",
   "metadata": {},
   "outputs": [
    {
     "name": "stdout",
     "output_type": "stream",
     "text": [
      "['apple', 'banana', 'cherry']\n"
     ]
    }
   ],
   "source": [
    "text = \"apple,banana,cherry\"\n",
    "result = text.split(\",\")\n",
    "print(result)  "
   ]
  },
  {
   "cell_type": "markdown",
   "id": "cf3721e5-347f-4240-b657-f1bca4babc19",
   "metadata": {},
   "source": [
    "#### 7. join()"
   ]
  },
  {
   "cell_type": "code",
   "execution_count": 126,
   "id": "a809cc44-5cdb-457c-b6bd-b6e577a542b3",
   "metadata": {},
   "outputs": [
    {
     "name": "stdout",
     "output_type": "stream",
     "text": [
      "apple, banana, cherry\n"
     ]
    }
   ],
   "source": [
    "fruits = ['apple', 'banana', 'cherry']\n",
    "result = \", \".join(fruits)\n",
    "print(result)  \n"
   ]
  },
  {
   "cell_type": "markdown",
   "id": "e899ff54-12a2-46a8-8e8d-d86f6f6f88e5",
   "metadata": {},
   "source": [
    "#### 8. find()"
   ]
  },
  {
   "cell_type": "code",
   "execution_count": 129,
   "id": "205069e3-2a79-4e2d-80fb-d23530b2c244",
   "metadata": {},
   "outputs": [
    {
     "name": "stdout",
     "output_type": "stream",
     "text": [
      "7\n"
     ]
    }
   ],
   "source": [
    "text = \"Hello, World!\"\n",
    "result = text.find(\"World\")\n",
    "print(result)  \n"
   ]
  },
  {
   "cell_type": "markdown",
   "id": "7a94a016-d5d6-4533-9117-cd5a77c5b654",
   "metadata": {},
   "source": [
    "#### 9. count()"
   ]
  },
  {
   "cell_type": "code",
   "execution_count": 132,
   "id": "8c15a24a-88e4-4feb-9ca1-112b3a6c5e61",
   "metadata": {},
   "outputs": [
    {
     "name": "stdout",
     "output_type": "stream",
     "text": [
      "2\n"
     ]
    }
   ],
   "source": [
    "text = \"Hello, World! Hello!\"\n",
    "result = text.count(\"Hello\")\n",
    "print(result) \n"
   ]
  },
  {
   "cell_type": "markdown",
   "id": "1278f8c8-3aea-4c2e-b257-e3353b5ab696",
   "metadata": {},
   "source": [
    "#### 10. startswith"
   ]
  },
  {
   "cell_type": "code",
   "execution_count": 135,
   "id": "0917b8e3-2819-4f8a-92da-5578869373d5",
   "metadata": {},
   "outputs": [
    {
     "name": "stdout",
     "output_type": "stream",
     "text": [
      "True\n"
     ]
    }
   ],
   "source": [
    "text = \"Hello, World!\"\n",
    "result = text.startswith(\"Hello\")\n",
    "print(result) \n"
   ]
  },
  {
   "cell_type": "markdown",
   "id": "98046914-55f7-4207-baa3-db90a1730fa9",
   "metadata": {},
   "source": [
    "#### 11. endswith()"
   ]
  },
  {
   "cell_type": "code",
   "execution_count": 138,
   "id": "470476c5-d4b8-456e-9326-eb761316ccb9",
   "metadata": {},
   "outputs": [
    {
     "name": "stdout",
     "output_type": "stream",
     "text": [
      "True\n"
     ]
    }
   ],
   "source": [
    "text = \"Hello, World!\"\n",
    "result = text.endswith(\"World!\")\n",
    "print(result) \n"
   ]
  },
  {
   "cell_type": "markdown",
   "id": "2e51a3db-f43d-4d5c-84b3-100e11a796a4",
   "metadata": {},
   "source": [
    "#### 12. isdigit()"
   ]
  },
  {
   "cell_type": "code",
   "execution_count": 141,
   "id": "06314fdf-7a69-4404-b47f-27c713c59751",
   "metadata": {},
   "outputs": [
    {
     "name": "stdout",
     "output_type": "stream",
     "text": [
      "True\n"
     ]
    }
   ],
   "source": [
    "text = \"12345\"\n",
    "result = text.isdigit()\n",
    "print(result)  \n"
   ]
  },
  {
   "cell_type": "markdown",
   "id": "03ba2310-995e-4c8e-9d38-729cd757d4d4",
   "metadata": {},
   "source": [
    "#### 13. isalpha()"
   ]
  },
  {
   "cell_type": "code",
   "execution_count": 144,
   "id": "f06c1abd-763a-44b1-b20b-3e6132fca666",
   "metadata": {},
   "outputs": [
    {
     "name": "stdout",
     "output_type": "stream",
     "text": [
      "True\n"
     ]
    }
   ],
   "source": [
    "text = \"Hello\"\n",
    "result = text.isalpha()\n",
    "print(result)  \n"
   ]
  },
  {
   "cell_type": "markdown",
   "id": "cc3fa523-0af9-4229-9446-d372e438ecb4",
   "metadata": {},
   "source": [
    "#### 14. isalnum()"
   ]
  },
  {
   "cell_type": "code",
   "execution_count": 147,
   "id": "898fba6c-6f42-41d1-ad15-f28718ba1567",
   "metadata": {},
   "outputs": [
    {
     "name": "stdout",
     "output_type": "stream",
     "text": [
      "True\n"
     ]
    }
   ],
   "source": [
    "text = \"Hello123\"\n",
    "result = text.isalnum()\n",
    "print(result)  \n"
   ]
  },
  {
   "cell_type": "markdown",
   "id": "a3b61c9f-e56f-426e-9ef0-fc3f45ac8418",
   "metadata": {},
   "source": [
    "#### 15. capitalize()"
   ]
  },
  {
   "cell_type": "code",
   "execution_count": 150,
   "id": "a2871469-0402-4148-81db-079d7e44637a",
   "metadata": {},
   "outputs": [
    {
     "name": "stdout",
     "output_type": "stream",
     "text": [
      "Hello, world!\n"
     ]
    }
   ],
   "source": [
    "text = \"hello, world!\"\n",
    "result = text.capitalize()\n",
    "print(result) "
   ]
  },
  {
   "cell_type": "markdown",
   "id": "ae2c4e93-39c1-43b2-8936-22e4a2ba1541",
   "metadata": {},
   "source": [
    "#### 16. center()"
   ]
  },
  {
   "cell_type": "code",
   "execution_count": 199,
   "id": "831ec478-cab1-45d6-9852-d1a6e68e6170",
   "metadata": {},
   "outputs": [
    {
     "name": "stdout",
     "output_type": "stream",
     "text": [
      "**hello***\n"
     ]
    }
   ],
   "source": [
    "s = \"hello\"\n",
    "print(s.center(10, '*'))  \n"
   ]
  },
  {
   "cell_type": "markdown",
   "id": "a6e1c6e5-0d98-4dc0-b5b0-e0d39cd71e92",
   "metadata": {},
   "source": [
    "#### 17. format()"
   ]
  },
  {
   "cell_type": "code",
   "execution_count": 256,
   "id": "55059c00-4698-4c42-942d-c85f49707869",
   "metadata": {},
   "outputs": [
    {
     "name": "stdout",
     "output_type": "stream",
     "text": [
      "Hello, World\n"
     ]
    }
   ],
   "source": [
    "s = \"Hello, {}\"\n",
    "print(s.format(\"World\"))  \n"
   ]
  },
  {
   "cell_type": "markdown",
   "id": "1e226022-bd06-469f-bfc9-324442224c99",
   "metadata": {},
   "source": [
    "#### 18. format_map()"
   ]
  },
  {
   "cell_type": "code",
   "execution_count": 259,
   "id": "e5ea236a-48a3-4da0-968f-bacee9c98030",
   "metadata": {},
   "outputs": [
    {
     "name": "stdout",
     "output_type": "stream",
     "text": [
      "Hello, Alice\n"
     ]
    }
   ],
   "source": [
    "data = {'name': 'Alice'}\n",
    "s = \"Hello, {name}\"\n",
    "print(s.format_map(data)) \n"
   ]
  },
  {
   "cell_type": "markdown",
   "id": "2e45f1ea-e86d-488f-a9e6-f40a1c56b05f",
   "metadata": {},
   "source": [
    "#### 19. index()"
   ]
  },
  {
   "cell_type": "code",
   "execution_count": 262,
   "id": "066b3f6d-c370-4939-9e5e-c705e0067267",
   "metadata": {},
   "outputs": [
    {
     "name": "stdout",
     "output_type": "stream",
     "text": [
      "1\n"
     ]
    }
   ],
   "source": [
    "s = \"hello\"\n",
    "print(s.index('e'))  \n",
    "\n"
   ]
  },
  {
   "cell_type": "markdown",
   "id": "c416725e-06d1-4d04-beb0-19b0ab4f8f40",
   "metadata": {},
   "source": [
    "#### 20. isascii()"
   ]
  },
  {
   "cell_type": "code",
   "execution_count": 264,
   "id": "a16f6b23-7b02-4e2c-8295-da701222294b",
   "metadata": {},
   "outputs": [
    {
     "name": "stdout",
     "output_type": "stream",
     "text": [
      "True\n"
     ]
    }
   ],
   "source": [
    "s = \"hello\"\n",
    "print(s.isascii()) \n"
   ]
  },
  {
   "cell_type": "markdown",
   "id": "44279274-f84c-4603-a90e-63685942e300",
   "metadata": {},
   "source": [
    "#### 21. isdecimal()"
   ]
  },
  {
   "cell_type": "code",
   "execution_count": 266,
   "id": "16da34bc-4944-438b-9c6c-97f8e5355a47",
   "metadata": {},
   "outputs": [
    {
     "name": "stdout",
     "output_type": "stream",
     "text": [
      "True\n"
     ]
    }
   ],
   "source": [
    "s = \"123\"\n",
    "print(s.isdecimal())  \n"
   ]
  },
  {
   "cell_type": "markdown",
   "id": "59d05416-e62f-485f-88f4-18467cb92e29",
   "metadata": {},
   "source": [
    "#### 22. isdigit()"
   ]
  },
  {
   "cell_type": "code",
   "execution_count": 268,
   "id": "fec960e2-92f2-4f51-b4e9-17c0586d02b2",
   "metadata": {},
   "outputs": [
    {
     "name": "stdout",
     "output_type": "stream",
     "text": [
      "True\n"
     ]
    }
   ],
   "source": [
    "s = \"12345\"\n",
    "print(s.isdigit())  \n"
   ]
  },
  {
   "cell_type": "markdown",
   "id": "72e5dd43-a2da-465e-a198-2c3df15b8d8a",
   "metadata": {},
   "source": [
    "#### 23. isidentifier()"
   ]
  },
  {
   "cell_type": "code",
   "execution_count": 271,
   "id": "16bc526a-f5da-476b-b0f2-042defe4a965",
   "metadata": {},
   "outputs": [
    {
     "name": "stdout",
     "output_type": "stream",
     "text": [
      "True\n"
     ]
    }
   ],
   "source": [
    "s = \"variable_name\"\n",
    "print(s.isidentifier())  \n"
   ]
  },
  {
   "cell_type": "markdown",
   "id": "80ab1f18-678d-4689-901a-190cc0ba7609",
   "metadata": {},
   "source": [
    "#### 24. islower()"
   ]
  },
  {
   "cell_type": "code",
   "execution_count": 274,
   "id": "42d1ddcb-0361-4f75-b5df-b08c3258a6d0",
   "metadata": {},
   "outputs": [
    {
     "name": "stdout",
     "output_type": "stream",
     "text": [
      "True\n"
     ]
    }
   ],
   "source": [
    "s = \"hello\"\n",
    "print(s.islower())  \n"
   ]
  },
  {
   "cell_type": "markdown",
   "id": "0a8b4191-1173-46d4-bfb4-b44d7ccb29cf",
   "metadata": {},
   "source": [
    "#### 25. isnumeric()"
   ]
  },
  {
   "cell_type": "code",
   "execution_count": 278,
   "id": "725f0392-49e0-4910-9fbd-1d01105a935c",
   "metadata": {},
   "outputs": [
    {
     "name": "stdout",
     "output_type": "stream",
     "text": [
      "True\n"
     ]
    }
   ],
   "source": [
    "s = \"12345\"\n",
    "print(s.isnumeric()) \n"
   ]
  },
  {
   "cell_type": "markdown",
   "id": "d12a3437-819d-4d11-8b94-4e37856960cc",
   "metadata": {},
   "source": [
    "#### 26. isprintable()"
   ]
  },
  {
   "cell_type": "code",
   "execution_count": 281,
   "id": "8e674496-252a-4304-9be5-d30f8396dc1c",
   "metadata": {},
   "outputs": [
    {
     "name": "stdout",
     "output_type": "stream",
     "text": [
      "True\n"
     ]
    }
   ],
   "source": [
    "s = \"hello\"\n",
    "print(s.isprintable())  \n"
   ]
  },
  {
   "cell_type": "markdown",
   "id": "37293d7a-fc31-4428-8b6c-e3db8c6b62b0",
   "metadata": {},
   "source": [
    "#### 27. isspace()"
   ]
  },
  {
   "cell_type": "code",
   "execution_count": 285,
   "id": "244fc53d-2815-4f6d-9db2-881477531d32",
   "metadata": {},
   "outputs": [
    {
     "name": "stdout",
     "output_type": "stream",
     "text": [
      "True\n"
     ]
    }
   ],
   "source": [
    "s = \"   \"\n",
    "print(s.isspace())  \n"
   ]
  },
  {
   "cell_type": "markdown",
   "id": "16078093-8ba5-46a7-83a1-83449923d93e",
   "metadata": {},
   "source": [
    "#### 28. istitle()"
   ]
  },
  {
   "cell_type": "code",
   "execution_count": 288,
   "id": "a19d22da-382b-4fe5-bdc9-b417bf05e7b9",
   "metadata": {},
   "outputs": [
    {
     "name": "stdout",
     "output_type": "stream",
     "text": [
      "True\n"
     ]
    }
   ],
   "source": [
    "s = \"HELLO\"\n",
    "print(s.isupper())  \n"
   ]
  },
  {
   "cell_type": "markdown",
   "id": "5447ec2c-4934-41b9-9fae-68f2f6768180",
   "metadata": {},
   "source": [
    "#### 29. isupper()"
   ]
  },
  {
   "cell_type": "code",
   "execution_count": 291,
   "id": "33edf1db-b066-4abf-934a-bfc3f3458124",
   "metadata": {},
   "outputs": [
    {
     "name": "stdout",
     "output_type": "stream",
     "text": [
      "True\n"
     ]
    }
   ],
   "source": [
    "s = \"HELLO\"\n",
    "print(s.isupper()) \n"
   ]
  },
  {
   "cell_type": "markdown",
   "id": "0e1e0ffc-7beb-4986-93d8-008f8c81b027",
   "metadata": {},
   "source": [
    "#### 30. join()"
   ]
  },
  {
   "cell_type": "code",
   "execution_count": 295,
   "id": "bac3ec9d-4795-4aff-a514-9ff2751c0a93",
   "metadata": {},
   "outputs": [
    {
     "name": "stdout",
     "output_type": "stream",
     "text": [
      "Hello World\n"
     ]
    }
   ],
   "source": [
    "words = ['Hello', 'World']\n",
    "print(' '.join(words)) "
   ]
  },
  {
   "cell_type": "markdown",
   "id": "9902693f-79f3-4f2e-aa91-d078adf060d0",
   "metadata": {},
   "source": [
    "#### 31. ljust()"
   ]
  },
  {
   "cell_type": "code",
   "execution_count": 297,
   "id": "ad7ea815-9ac6-46b1-b1ae-e78f53b7dfa2",
   "metadata": {},
   "outputs": [
    {
     "name": "stdout",
     "output_type": "stream",
     "text": [
      "hello*****\n"
     ]
    }
   ],
   "source": [
    "s = \"hello\"\n",
    "print(s.ljust(10, '*'))  "
   ]
  },
  {
   "cell_type": "markdown",
   "id": "32e21ace-8139-438f-a148-b7e1c3af08b2",
   "metadata": {},
   "source": [
    "#### 32. maketrans()"
   ]
  },
  {
   "cell_type": "code",
   "execution_count": 300,
   "id": "878c0017-1efb-4329-a7a7-263a8203a41f",
   "metadata": {},
   "outputs": [
    {
     "name": "stdout",
     "output_type": "stream",
     "text": [
      "123\n"
     ]
    }
   ],
   "source": [
    "trans = str.maketrans('abc', '123')\n",
    "s = \"abc\"\n",
    "print(s.translate(trans)) \n"
   ]
  },
  {
   "cell_type": "markdown",
   "id": "b51e7647-f51d-4408-bcb4-4ac6884cc02a",
   "metadata": {},
   "source": [
    "#### 33. partition()"
   ]
  },
  {
   "cell_type": "code",
   "execution_count": 304,
   "id": "73325760-261f-4cf3-b45a-39649dbb826c",
   "metadata": {},
   "outputs": [
    {
     "name": "stdout",
     "output_type": "stream",
     "text": [
      "('hello', ' ', 'world')\n"
     ]
    }
   ],
   "source": [
    "s = \"hello world\"\n",
    "print(s.partition(' ')) \n"
   ]
  },
  {
   "cell_type": "markdown",
   "id": "a5d9c80d-094d-4da6-89a0-d5750fca0a82",
   "metadata": {},
   "source": [
    "#### 34. rfind()"
   ]
  },
  {
   "cell_type": "code",
   "execution_count": 307,
   "id": "cdb8daa1-56e8-4bf6-b980-f358a279bbfb",
   "metadata": {},
   "outputs": [
    {
     "name": "stdout",
     "output_type": "stream",
     "text": [
      "5\n"
     ]
    }
   ],
   "source": [
    "s = \"banana\"\n",
    "print(s.rfind('a')) \n"
   ]
  },
  {
   "cell_type": "markdown",
   "id": "f63b4608-741c-455f-bad7-1e02e0a6d770",
   "metadata": {},
   "source": [
    "#### 35. rindex()"
   ]
  },
  {
   "cell_type": "code",
   "execution_count": 309,
   "id": "29d953e2-9065-4773-96d5-68e72abe2491",
   "metadata": {},
   "outputs": [
    {
     "ename": "SyntaxError",
     "evalue": "invalid decimal literal (3810436856.py, line 2)",
     "output_type": "error",
     "traceback": [
      "\u001b[1;36m  Cell \u001b[1;32mIn[309], line 2\u001b[1;36m\u001b[0m\n\u001b[1;33m    print(s.rindex('a')) 5r\u001b[0m\n\u001b[1;37m                         ^\u001b[0m\n\u001b[1;31mSyntaxError\u001b[0m\u001b[1;31m:\u001b[0m invalid decimal literal\n"
     ]
    }
   ],
   "source": [
    "s = \"banana\"\r\n",
    "print(s.rindex('a')) 5r\r\n"
   ]
  },
  {
   "cell_type": "markdown",
   "id": "c02949d5-e811-4953-96e8-9b682240a2f1",
   "metadata": {},
   "source": [
    "#### 36. splitlines()"
   ]
  },
  {
   "cell_type": "code",
   "execution_count": 311,
   "id": "d85a273f-9ec7-4ba4-bd19-41b5ab83dd9c",
   "metadata": {},
   "outputs": [
    {
     "name": "stdout",
     "output_type": "stream",
     "text": [
      "['hello', 'world']\n"
     ]
    }
   ],
   "source": [
    "s = \"hello\\nworld\"\n",
    "print(s.splitlines()) \n"
   ]
  },
  {
   "cell_type": "markdown",
   "id": "0f0bef3c-fac3-4ed4-a5d0-eb1084d55391",
   "metadata": {},
   "source": [
    "#### 37. startswith()"
   ]
  },
  {
   "cell_type": "code",
   "execution_count": 313,
   "id": "4a9acac4-d3c8-4a23-9a70-3e1c7d21d2cc",
   "metadata": {},
   "outputs": [
    {
     "name": "stdout",
     "output_type": "stream",
     "text": [
      "True\n"
     ]
    }
   ],
   "source": [
    "s = \"example.txt\"\n",
    "print(s.startswith('ex'))  \n"
   ]
  },
  {
   "cell_type": "markdown",
   "id": "5347bffb-d2eb-4851-9ce4-5d4ec2f62c9d",
   "metadata": {},
   "source": [
    "#### 38. swapcase()"
   ]
  },
  {
   "cell_type": "code",
   "execution_count": 316,
   "id": "cae08b49-c257-4258-ab2a-e330761c0b81",
   "metadata": {},
   "outputs": [
    {
     "name": "stdout",
     "output_type": "stream",
     "text": [
      "hELLO wORLD\n"
     ]
    }
   ],
   "source": [
    "s = \"Hello World\"\n",
    "print(s.swapcase())  \n"
   ]
  },
  {
   "cell_type": "markdown",
   "id": "344ce43d-7137-490f-a64b-f1dcd4364567",
   "metadata": {},
   "source": [
    "#### 39. rstrip()"
   ]
  },
  {
   "cell_type": "code",
   "execution_count": 321,
   "id": "13b2bf78-aa11-42d3-bff5-f00f56140b92",
   "metadata": {},
   "outputs": [
    {
     "name": "stdout",
     "output_type": "stream",
     "text": [
      "hello\n"
     ]
    }
   ],
   "source": [
    "s = \"hello   \"\n",
    "print(s.rstrip()) \n"
   ]
  },
  {
   "cell_type": "markdown",
   "id": "6b81c4d0-a4db-4dbd-9488-8fd43eef7b0c",
   "metadata": {},
   "source": [
    "#### 40. split()"
   ]
  },
  {
   "cell_type": "code",
   "execution_count": 324,
   "id": "5b0a4c5f-2265-4c17-bfd7-6a6985c84652",
   "metadata": {},
   "outputs": [
    {
     "name": "stdout",
     "output_type": "stream",
     "text": [
      "['hello', 'world']\n"
     ]
    }
   ],
   "source": [
    "s = \"hello world\"\n",
    "print(s.split())  \n"
   ]
  }
 ],
 "metadata": {
  "kernelspec": {
   "display_name": "Python 3 (ipykernel)",
   "language": "python",
   "name": "python3"
  },
  "language_info": {
   "codemirror_mode": {
    "name": "ipython",
    "version": 3
   },
   "file_extension": ".py",
   "mimetype": "text/x-python",
   "name": "python",
   "nbconvert_exporter": "python",
   "pygments_lexer": "ipython3",
   "version": "3.12.4"
  }
 },
 "nbformat": 4,
 "nbformat_minor": 5
}
